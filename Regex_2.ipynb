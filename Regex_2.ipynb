{
 "cells": [
  {
   "cell_type": "code",
   "execution_count": 2,
   "metadata": {},
   "outputs": [
    {
     "name": "stdout",
     "output_type": "stream",
     "text": [
      "Finn  Bindaballe\n",
      "Ron Cromberge\n"
     ]
    }
   ],
   "source": [
    "import re\n",
    "\n",
    "names = ['Finn  Bindaballe',\n",
    "         'Geir Anders Berge',\n",
    "         'HappyCodingRobot',\n",
    "         'Ron Cromberge',\n",
    "         'Sohil']\n",
    "\n",
    "# Find people with first and last name only\n",
    "\n",
    "# With one space between words\n",
    "regex = '^\\w+ \\w+$'\n",
    "# With one or more spaces between words\n",
    "regex = '^\\w+\\s+\\w+$'\n",
    "for name in names:\n",
    "    result = re.search(regex, name)\n",
    "    if result:\n",
    "        print(name)"
   ]
  },
  {
   "cell_type": "code",
   "execution_count": 3,
   "metadata": {},
   "outputs": [
    {
     "name": "stdout",
     "output_type": "stream",
     "text": [
      "Finn  Bindaballe\n",
      "Ron Cromberge\n"
     ]
    }
   ],
   "source": [
    "import re\n",
    "\n",
    "names = ['Finn  Bindaballe',\n",
    "         'Geir Anders Berge',\n",
    "         'HappyCodingRobot',\n",
    "         'Ron Cromberge',\n",
    "         'Sohil']\n",
    "\n",
    "# Find people with first and last name only\n",
    "\n",
    "# With one space between words\n",
    "regex = '^\\w+ \\w+$'\n",
    "# With one or more spaces between words\n",
    "regex = '^\\w+\\s+\\w+$'\n",
    "for name in names:\n",
    "    result = re.search(regex, name)\n",
    "    if result:\n",
    "        print(name)"
   ]
  }
 ],
 "metadata": {
  "kernelspec": {
   "display_name": "Python 3",
   "language": "python",
   "name": "python3"
  },
  "language_info": {
   "codemirror_mode": {
    "name": "ipython",
    "version": 3
   },
   "file_extension": ".py",
   "mimetype": "text/x-python",
   "name": "python",
   "nbconvert_exporter": "python",
   "pygments_lexer": "ipython3",
   "version": "3.10.2 (tags/v3.10.2:a58ebcc, Jan 17 2022, 14:12:15) [MSC v.1929 64 bit (AMD64)]"
  },
  "orig_nbformat": 4,
  "vscode": {
   "interpreter": {
    "hash": "dcc355bdbe6cc8e2ecaf468706ec444166ea8f3050acd638fcc7bec5df6828f9"
   }
  }
 },
 "nbformat": 4,
 "nbformat_minor": 2
}
