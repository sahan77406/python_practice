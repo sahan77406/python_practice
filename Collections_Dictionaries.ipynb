{
 "cells": [
  {
   "attachments": {},
   "cell_type": "markdown",
   "metadata": {},
   "source": [
    "## **Collections**"
   ]
  },
  {
   "attachments": {},
   "cell_type": "markdown",
   "metadata": {},
   "source": [
    "### **1-Dictionaries**\n",
    "\n",
    "- Dictionaries are unordered collections of data that stores data in key-value pairs.\n",
    "- Dictionaries are mutable.\n",
    "- Dictionaries' keys can not be duplicated.\n",
    "- Dictionaries are enclosed in curly **{}** brackets in the form of key-value pairs.\n",
    "- The **update()** method is used to update the specified key-value pairs.\n",
    "- The **pop()** method is used to remove specified item from the dictionary.\n",
    "- The **get())** method is used to return the value of the item with the specified key. "
   ]
  },
  {
   "cell_type": "code",
   "execution_count": 19,
   "metadata": {},
   "outputs": [
    {
     "name": "stdout",
     "output_type": "stream",
     "text": [
      "{}\n",
      "\n",
      "{'cherry': 'red', 'apple': 'yellow', 'blueberry': 'blue', 'blackberry': 'black'}\n",
      "\n",
      "cherry apple blueberry blackberry \n",
      "\n",
      "cherry : red\n",
      "apple : yellow\n",
      "blueberry : blue\n",
      "blackberry : black\n"
     ]
    }
   ],
   "source": [
    "dict_a = {} # Create an empty dictionary.\n",
    "dict_b = {\"cherry\":\"red\", \"apple\":\"yellow\", \"blueberry\":\"blue\", \"blackberry\":\"black\"}\n",
    "\n",
    "# print list\n",
    "\n",
    "print(dict_a) # It is empty.\n",
    "\n",
    "print() # skip a line \n",
    "print (dict_b) # print elements in curly brackets\n",
    "\n",
    "print() # skip a line \n",
    "# print keys without brackets\n",
    "for i in dict_b:\n",
    "    print (i , end=\" \")\n",
    "\n",
    "print() # skip a line\n",
    "print() # skip a line \n",
    "# print keys and values without brackets\n",
    "for key, value in dict_b.items():\n",
    "    print (key , \":\",  value)"
   ]
  },
  {
   "cell_type": "code",
   "execution_count": 20,
   "metadata": {},
   "outputs": [
    {
     "name": "stdout",
     "output_type": "stream",
     "text": [
      "Before Updating\n",
      "{'apple': 5, 'cherry': 7, 'lemon': 9, 'benana': 11, 'orange': 3}\n",
      "\n",
      "After Updating\n",
      "{'apple': 100, 'cherry': 7, 'lemon': 9, 'benana': 11, 'orange': 3}\n"
     ]
    }
   ],
   "source": [
    "# Update key and value pairs in the deictionary\n",
    "dict_c = {\"apple\" : 5, \"cherry\" : 7, \"lemon\": 9, \"benana\": 11, \"orange\": 3}\n",
    "\n",
    "print(\"Before Updating\")\n",
    "print (dict_c)\n",
    "print() # skip one line\n",
    "\n",
    "dict_c.update({\"apple\":100})\n",
    "print(\"After Updating\")\n",
    "print (dict_c)\n"
   ]
  },
  {
   "cell_type": "code",
   "execution_count": 21,
   "metadata": {},
   "outputs": [
    {
     "name": "stdout",
     "output_type": "stream",
     "text": [
      "Before Removing\n",
      "{'flowers': 'rose', 'birds': 'hawks', 'insects': 'butterflies', 'fruits': 'lemons'}\n",
      "\n",
      "After Removing\n",
      "{'flowers': 'rose', 'birds': 'hawks', 'fruits': 'lemons'}\n",
      "\n",
      "Removed Item\n",
      "butterflies\n"
     ]
    }
   ],
   "source": [
    "# Remove an item from the list\n",
    "dict_d = {\"flowers\":\"rose\", \"birds\":\"hawks\", \"insects\":\"butterflies\", \"fruits\": \"lemons\"}\n",
    "print(\"Before Removing\")\n",
    "print (dict_d)\n",
    "print() # skip one line\n",
    "\n",
    "removed_item = dict_d.pop(\"insects\") # Remove insects, butterflies\n",
    "print(\"After Removing\")\n",
    "print (dict_d)\n",
    "\n",
    "print() # skip one line\n",
    "print(\"Removed Item\")\n",
    "print (removed_item) # Print removed items\n"
   ]
  },
  {
   "cell_type": "code",
   "execution_count": 22,
   "metadata": {},
   "outputs": [
    {
     "name": "stdout",
     "output_type": "stream",
     "text": [
      "e\n"
     ]
    }
   ],
   "source": [
    "# The get() method returns the value of the item with the specified key\n",
    "dict_e = {1:\"a\", 2:\"b\", 3:\"c\", 4:\"d\", 5:\"e\", 6:\"f\"}\n",
    "\n",
    "get_item = dict_e.get(5)\n",
    "\n",
    "print(get_item)"
   ]
  }
 ],
 "metadata": {
  "kernelspec": {
   "display_name": "Python 3",
   "language": "python",
   "name": "python3"
  },
  "language_info": {
   "codemirror_mode": {
    "name": "ipython",
    "version": 3
   },
   "file_extension": ".py",
   "mimetype": "text/x-python",
   "name": "python",
   "nbconvert_exporter": "python",
   "pygments_lexer": "ipython3",
   "version": "3.10.2 (tags/v3.10.2:a58ebcc, Jan 17 2022, 14:12:15) [MSC v.1929 64 bit (AMD64)]"
  },
  "orig_nbformat": 4,
  "vscode": {
   "interpreter": {
    "hash": "dcc355bdbe6cc8e2ecaf468706ec444166ea8f3050acd638fcc7bec5df6828f9"
   }
  }
 },
 "nbformat": 4,
 "nbformat_minor": 2
}
