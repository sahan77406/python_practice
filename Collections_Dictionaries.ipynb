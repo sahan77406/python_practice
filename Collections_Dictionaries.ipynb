{
 "cells": [
  {
   "attachments": {},
   "cell_type": "markdown",
   "metadata": {},
   "source": [
    "## **Collections**"
   ]
  },
  {
   "attachments": {},
   "cell_type": "markdown",
   "metadata": {},
   "source": [
    "### **1-Dictionaries**\n",
    "\n",
    "- Dictionaries are unordered collections of data that stores data in key-value pairs.\n",
    "- Dictionaries are mutable\n",
    "- Dictionaries' keys can not be duplicated.\n",
    "- Dictionaries are enclosed in curly **{}** brackets in the form of key-value pairs.\n",
    "- The **update()** method is used to update the specified key-value pairs.\n",
    "- The **pop()** method is used to remove specified item from the dictionary.\n",
    "- The **sorted()** method is used to sort the keys in the dictionary.\n",
    "- The **get())** method is used to return the value of the item with the specified key. "
   ]
  },
  {
   "cell_type": "code",
   "execution_count": 7,
   "metadata": {},
   "outputs": [
    {
     "name": "stdout",
     "output_type": "stream",
     "text": [
      "{}\n",
      "\n",
      "{'cherry': 'red', 'apple': 'yellow', 'blueberry': 'blue', 'blackberry': 'black'}\n",
      "\n",
      "cherry apple blueberry blackberry \n",
      "\n",
      "cherry : red\n",
      "apple : yellow\n",
      "blueberry : blue\n",
      "blackberry : black\n"
     ]
    }
   ],
   "source": [
    "dict_a = {} # Create an empty dictionary.\n",
    "dict_b = {\"cherry\":\"red\", \"apple\":\"yellow\", \"blueberry\":\"blue\", \"blackberry\":\"black\"}\n",
    "\n",
    "# print list\n",
    "\n",
    "print(dict_a) # It is empty.\n",
    "\n",
    "print() # skip a line \n",
    "print (dict_b) # print elements in curly brackets\n",
    "\n",
    "print() # skip a line \n",
    "# print keys without brackets\n",
    "for i in dict_b:\n",
    "    print (i , end=\" \")\n",
    "\n",
    "print() # skip a line\n",
    "print() # skip a line \n",
    "# print keys and values without brackets\n",
    "for key, value in dict_b.items():\n",
    "    print (key , \":\",  value)"
   ]
  },
  {
   "cell_type": "code",
   "execution_count": 13,
   "metadata": {},
   "outputs": [
    {
     "name": "stdout",
     "output_type": "stream",
     "text": [
      "Before Updating\n",
      "{'apple': 5, 'cherry': 7, 'lemon': 9, 'benana': 11, 'orange': 3}\n",
      "\n",
      "After Updating\n",
      "{'apple': 100, 'cherry': 7, 'lemon': 9, 'benana': 11, 'orange': 3}\n"
     ]
    }
   ],
   "source": [
    "# Update key and value pairs in the deictionary\n",
    "dict_c = {\"apple\" : 5, \"cherry\" : 7, \"lemon\": 9, \"benana\": 11, \"orange\": 3}\n",
    "\n",
    "print(\"Before Updating\")\n",
    "print (dict_c)\n",
    "print() # skip one line\n",
    "\n",
    "dict_c.update({\"apple\":100})\n",
    "print(\"After Updating\")\n",
    "print (dict_c)\n"
   ]
  },
  {
   "cell_type": "code",
   "execution_count": 15,
   "metadata": {},
   "outputs": [
    {
     "name": "stdout",
     "output_type": "stream",
     "text": [
      "Before Removing\n",
      "{'flowers': 'rose', 'birds': 'hawks', 'insects': 'butterflies', 'fruits': 'lemons'}\n",
      "\n",
      "After Removing\n",
      "{'flowers': 'rose', 'birds': 'hawks', 'fruits': 'lemons'}\n",
      "\n",
      "Removed Item\n",
      "butterflies\n"
     ]
    }
   ],
   "source": [
    "# Remove an item from the list\n",
    "dict_d = {\"flowers\":\"rose\", \"birds\":\"hawks\", \"insects\":\"butterflies\", \"fruits\": \"lemons\"}\n",
    "print(\"Before Removing\")\n",
    "print (dict_d)\n",
    "print() # skip one line\n",
    "\n",
    "removed_item = dict_d.pop(\"insects\") # Remove insects, butterflies\n",
    "print(\"After Removing\")\n",
    "print (dict_d)\n",
    "\n",
    "print() # skip one line\n",
    "print(\"Removed Item\")\n",
    "print (removed_item) # Print removed items\n"
   ]
  },
  {
   "cell_type": "code",
   "execution_count": 16,
   "metadata": {},
   "outputs": [
    {
     "name": "stdout",
     "output_type": "stream",
     "text": [
      "Before Sorting\n",
      "{1: 'a', 2: 'b', 3: 'c', 4: 'd', 5: 'e', 6: 'f'}\n",
      "\n",
      "After Sorting\n"
     ]
    },
    {
     "ename": "AttributeError",
     "evalue": "'dict' object has no attribute 'sort'",
     "output_type": "error",
     "traceback": [
      "\u001b[1;31m---------------------------------------------------------------------------\u001b[0m",
      "\u001b[1;31mAttributeError\u001b[0m                            Traceback (most recent call last)",
      "Cell \u001b[1;32mIn [16], line 9\u001b[0m\n\u001b[0;32m      6\u001b[0m \u001b[39mprint\u001b[39m() \u001b[39m# skip one line\u001b[39;00m\n\u001b[0;32m      8\u001b[0m \u001b[39mprint\u001b[39m(\u001b[39m\"\u001b[39m\u001b[39mAfter Sorting\u001b[39m\u001b[39m\"\u001b[39m)\n\u001b[1;32m----> 9\u001b[0m dict_e\u001b[39m.\u001b[39;49msort()\n\u001b[0;32m     10\u001b[0m \u001b[39mprint\u001b[39m (dict_e)\n\u001b[0;32m     11\u001b[0m \u001b[39mprint\u001b[39m() \u001b[39m# skip one line\u001b[39;00m\n",
      "\u001b[1;31mAttributeError\u001b[0m: 'dict' object has no attribute 'sort'"
     ]
    }
   ],
   "source": [
    "# Sort the list items\n",
    "dict_e = {1:\"a\", 2:\"b\", 3:\"c\", 4:\"d\", 5:\"e\", 6:\"f\"}\n",
    "\n",
    "print(\"Before Sorting\")\n",
    "print (dict_e)\n",
    "print() # skip one line\n",
    "\n",
    "print(\"After Sorting\")\n",
    "dict_e.sort()\n",
    "print (dict_e)\n",
    "print() # skip one line\n",
    "\n",
    "print(\"Reverse Sorting\")\n",
    "dict_e.sort(reverse=True)\n",
    "print (dict_e)"
   ]
  },
  {
   "cell_type": "code",
   "execution_count": 23,
   "metadata": {},
   "outputs": [
    {
     "name": "stdout",
     "output_type": "stream",
     "text": [
      "1\n"
     ]
    }
   ],
   "source": [
    "# Search an element in the list\n",
    "list_f = [\"pencil\", \"pen\", \"eraser\", \"calculator\", \"notebook\", \"pen\"]\n",
    "\n",
    "searched_element = list_f.index(\"pen\") # Return the the index of pen at its first occurance\n",
    "\n",
    "print (searched_element)"
   ]
  },
  {
   "cell_type": "code",
   "execution_count": 24,
   "metadata": {},
   "outputs": [
    {
     "name": "stdout",
     "output_type": "stream",
     "text": [
      "2\n"
     ]
    }
   ],
   "source": [
    "# Count the number of an item in the list\n",
    "\n",
    "list_g = [2, 5, 6, 9, 6, 0, 1, 4, 4, 3, 1, 99]\n",
    "\n",
    "how_many = list_g.count(6) # How many element 6 are there in the list\n",
    "\n",
    "print(how_many) "
   ]
  },
  {
   "cell_type": "code",
   "execution_count": 25,
   "metadata": {},
   "outputs": [
    {
     "name": "stdout",
     "output_type": "stream",
     "text": [
      "Before Reversing\n",
      "[1, 2, 3, 4, 5, 6, 7, 8, 9]\n",
      "\n",
      "After Reversing\n",
      "[9, 8, 7, 6, 5, 4, 3, 2, 1]\n",
      "\n"
     ]
    }
   ],
   "source": [
    "# Reverse the items in the list\n",
    "\n",
    "list_h = [1, 2, 3, 4, 5, 6, 7, 8, 9]\n",
    "\n",
    "print(\"Before Reversing\")\n",
    "print (list_h)\n",
    "print() # skip one line\n",
    "\n",
    "print(\"After Reversing\")\n",
    "list_h.reverse()\n",
    "print (list_h)\n",
    "print() # skip one line\n",
    "\n"
   ]
  }
 ],
 "metadata": {
  "kernelspec": {
   "display_name": "Python 3",
   "language": "python",
   "name": "python3"
  },
  "language_info": {
   "codemirror_mode": {
    "name": "ipython",
    "version": 3
   },
   "file_extension": ".py",
   "mimetype": "text/x-python",
   "name": "python",
   "nbconvert_exporter": "python",
   "pygments_lexer": "ipython3",
   "version": "3.10.2"
  },
  "orig_nbformat": 4,
  "vscode": {
   "interpreter": {
    "hash": "dcc355bdbe6cc8e2ecaf468706ec444166ea8f3050acd638fcc7bec5df6828f9"
   }
  }
 },
 "nbformat": 4,
 "nbformat_minor": 2
}
