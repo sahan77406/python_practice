{
 "cells": [
  {
   "attachments": {},
   "cell_type": "markdown",
   "metadata": {},
   "source": [
    "## **Collections**"
   ]
  },
  {
   "attachments": {},
   "cell_type": "markdown",
   "metadata": {},
   "source": [
    "### **1-Sets**\n",
    "\n",
    "- Sets are unordered.\n",
    "- Sets are mutable and have unique elements.\n",
    "- Sets are represented in curly **{}** brackets.\n",
    "- The **add()** method is used to add a single item to a set\n",
    "- The **pop()** method is used to remove a random item from the set\n",
    "- Elements in the set cannot be sorted since they are unordered.\n",
    "- The index of a particular element is not retrieved since they are unordered.\n",
    "- There is no **count()** method for sets to return the number of times the specified element appears in the set."
   ]
  },
  {
   "cell_type": "code",
   "execution_count": 3,
   "metadata": {},
   "outputs": [
    {
     "name": "stdout",
     "output_type": "stream",
     "text": [
      "{'number', 5, 9, 10.01, 'a', 'apple'}\n",
      "number 5 9 10.01 a apple "
     ]
    }
   ],
   "source": [
    "set_a = {\"a\", \"apple\", \"number\", 5, 9, 10.01, 5}\n",
    "\n",
    "# print set\n",
    "\n",
    "print(set_a) # print elements in curly brackets. And it does not print repeated element (5)\n",
    "\n",
    "# print without brackets. It does not print repeated element (5)\n",
    "for i in set_a:\n",
    "    print (i , end=\" \")"
   ]
  },
  {
   "cell_type": "code",
   "execution_count": 4,
   "metadata": {},
   "outputs": [
    {
     "name": "stdout",
     "output_type": "stream",
     "text": [
      "Before Adding\n",
      "{'orange', 'green', 'blue', 'yellow', 'red'}\n",
      "\n",
      "After Adding\n",
      "{'orange', 'green', 'blue', 'yellow', 'black', 'red'}\n"
     ]
    }
   ],
   "source": [
    "# Add an item to the set\n",
    "set_b = {\"red\", \"blue\", \"green\", \"yellow\", \"orange\"}\n",
    "print(\"Before Adding\")\n",
    "print (set_b)\n",
    "print() # skip one line\n",
    "\n",
    "set_b.add(\"black\") # Add randomly\n",
    "print(\"After Adding\")\n",
    "print (set_b)\n"
   ]
  },
  {
   "cell_type": "code",
   "execution_count": 5,
   "metadata": {},
   "outputs": [
    {
     "name": "stdout",
     "output_type": "stream",
     "text": [
      "Before Removing\n",
      "{'lake', 'sea', 'pond', 'river', 'ocean'}\n",
      "\n",
      "After Removing\n",
      "{'sea', 'pond', 'river', 'ocean'}\n",
      "\n",
      "Removed Item\n",
      "lake\n"
     ]
    }
   ],
   "source": [
    "# Remove an item from the set\n",
    "set_c = {\"ocean\", \"sea\", \"lake\", \"pond\", \"river\"}\n",
    "print(\"Before Removing\")\n",
    "print (set_c)\n",
    "print() # skip one line\n",
    "\n",
    "removed_item = set_c.pop() # Remove an item from the set and return the element\n",
    "print(\"After Removing\")\n",
    "print (set_c)\n",
    "\n",
    "print() # skip one line\n",
    "print(\"Removed Item\")\n",
    "print (removed_item) # Print removed item\n"
   ]
  }
 ],
 "metadata": {
  "kernelspec": {
   "display_name": "Python 3",
   "language": "python",
   "name": "python3"
  },
  "language_info": {
   "codemirror_mode": {
    "name": "ipython",
    "version": 3
   },
   "file_extension": ".py",
   "mimetype": "text/x-python",
   "name": "python",
   "nbconvert_exporter": "python",
   "pygments_lexer": "ipython3",
   "version": "3.10.2 (tags/v3.10.2:a58ebcc, Jan 17 2022, 14:12:15) [MSC v.1929 64 bit (AMD64)]"
  },
  "orig_nbformat": 4,
  "vscode": {
   "interpreter": {
    "hash": "dcc355bdbe6cc8e2ecaf468706ec444166ea8f3050acd638fcc7bec5df6828f9"
   }
  }
 },
 "nbformat": 4,
 "nbformat_minor": 2
}
