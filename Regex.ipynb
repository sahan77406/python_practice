{
 "cells": [
  {
   "attachments": {},
   "cell_type": "markdown",
   "metadata": {},
   "source": [
    "- ^ Matches the expression to its right, at the start of a string before it experiences a line break\n",
    "- $ Matches the expression to its left, at the end of a string before it experiences a line break\n",
    "- . Matches any character except newline\n",
    "- a Matches exactly one character a\n",
    "- xy Matches the string xy\n",
    "- a|b Matches expression a or b. If a is matched first, b is left untried."
   ]
  },
  {
   "cell_type": "code",
   "execution_count": null,
   "metadata": {},
   "outputs": [],
   "source": [
    "import re\n",
    "\n",
    "names = ['Finn  Bindaballe',\n",
    "         'Geir Anders Berge',\n",
    "         'HappyCodingRobot',\n",
    "         'Ron Cromberge',\n",
    "         'Sohil']\n",
    "\n",
    "# Find people with first and last name only\n",
    "\n",
    "# With one space between words\n",
    "regex = '^\\w+ \\w+$'\n",
    "# With one or more spaces between words\n",
    "regex = '^\\w+\\s+\\w+$'\n",
    "for name in names:\n",
    "    result = re.search(regex, name)\n",
    "    if result:\n",
    "        print(name)"
   ]
  },
  {
   "cell_type": "code",
   "execution_count": null,
   "metadata": {},
   "outputs": [],
   "source": [
    "import re\n",
    "\n",
    "names = ['Finn  Bindaballe',\n",
    "         'Geir Anders Berge',\n",
    "         'HappyCodingRobot',\n",
    "         'Ron Cromberge',\n",
    "         'Sohil']\n",
    "\n",
    "# Find people with first and last name only\n",
    "\n",
    "# With one space between words\n",
    "regex = '^\\w+ \\w+$'\n",
    "# With one or more spaces between words\n",
    "regex = '^\\w+\\s+\\w+$'\n",
    "for name in names:\n",
    "    result = re.search(regex, name)\n",
    "    if result:\n",
    "        print(result)"
   ]
  },
  {
   "cell_type": "code",
   "execution_count": null,
   "metadata": {},
   "outputs": [],
   "source": [
    "import re\n",
    "\n",
    "names = ['Finn  Bindaballe',\n",
    "         'Geir Anders Berge',\n",
    "         'HappyCodingRobot',\n",
    "         'Ron Cromberge',\n",
    "         'Sohil']\n",
    "\n",
    "# Search for word char sequence starting with C\n",
    "\n",
    "regex = 'C\\w*'\n",
    "for name in names:\n",
    "    match = re.search(regex, name)\n",
    "    if match:\n",
    "        print(name)\n",
    "        print(match.start())\n",
    "        print(match.end())"
   ]
  },
  {
   "cell_type": "code",
   "execution_count": null,
   "metadata": {},
   "outputs": [],
   "source": [
    "import re\n",
    "\n",
    "names = ['Finn  Bindaballe',\n",
    "         'Geir Anders Berge',\n",
    "         'HappyCodingRobot',\n",
    "         'Ron Cromberge',\n",
    "         'Sohil']\n",
    "\n",
    "# Search for word char sequence starting with C\n",
    "\n",
    "regex = 'C\\w*'\n",
    "for name in names:\n",
    "    match = re.search(regex, name)\n",
    "    if match:\n",
    "        print(name)\n",
    "        print(match.span())\n",
    "        print(match.group())\n"
   ]
  },
  {
   "cell_type": "code",
   "execution_count": null,
   "metadata": {},
   "outputs": [],
   "source": [
    "import re\n",
    "\n",
    "names = ['Brian Daugette',\n",
    "         'Veronica Supersonica',\n",
    "         'Tony Gasparovic',\n",
    "         'Patric Germann',\n",
    "         'm!sha']\n",
    "\n",
    "regex = '^(\\w+)\\s+(\\w+)$'\n",
    "\n",
    "for name in names:\n",
    "    match = re.search(regex, name)\n",
    "    if match:\n",
    "        # print(name)\n",
    "        # print(match.group(1))\n",
    "        # print(match.group(2))\n",
    "        print(match.group(2), match.group(1))"
   ]
  },
  {
   "cell_type": "code",
   "execution_count": null,
   "metadata": {},
   "outputs": [],
   "source": [
    "import re\n",
    "\n",
    "names = ['Brian Daugette',\n",
    "         'Veronica Supersonica',\n",
    "         'Tony Gasparovic',\n",
    "         'Patric Germann',\n",
    "         'm!sha']\n",
    "\n",
    "regex = '^(?P<fn>\\w+)\\s+(?P<ln>\\w+)$'\n",
    "\n",
    "for name in names:\n",
    "    match = re.search(regex, name)\n",
    "    if match:\n",
    "        # print(name)\n",
    "        # print(match.group(1))\n",
    "        # print(match.group(2))\n",
    "        print(match.group('ln'), match.group('fn'))"
   ]
  },
  {
   "cell_type": "code",
   "execution_count": null,
   "metadata": {},
   "outputs": [],
   "source": [
    "import re\n",
    "\n",
    "names = ['Brian Daugette',\n",
    "         'Veronica Supersonica',\n",
    "         'Tony Gasparovic',\n",
    "         'Patric Germann',\n",
    "         'm!sha']\n",
    "\n",
    "regex = '^[a-zA-Z!]+ | [a-zA-Z]+$'\n",
    "\n",
    "for name in names:\n",
    "    match = re.search(regex, name)\n",
    "    if match:\n",
    "        print(name)\n"
   ]
  },
  {
   "cell_type": "code",
   "execution_count": 2,
   "metadata": {},
   "outputs": [
    {
     "name": "stdout",
     "output_type": "stream",
     "text": [
      "one two three four five ? ? ? six seven eigth nine zero ? ? ? ? "
     ]
    }
   ],
   "source": [
    "# ids = str(input(\"Enter your id\")) # Burasi id girmek icin\n",
    "\n",
    "ids = '12345uhh67890kjhh'\n",
    "\n",
    "lst = []\n",
    "\n",
    "for letter in ids:\n",
    "    lst.append(letter)\n",
    "\n",
    "\n",
    "for id in lst:\n",
    "    if id == '1':\n",
    "        print (\"one\", end=' ')\n",
    "    elif id == '2': \n",
    "        print (\"two\", end=' ')\n",
    "    elif id == '3':\n",
    "        print (\"three\", end=' ')\n",
    "    elif id == '4':\n",
    "        print (\"four\", end=' ')\n",
    "    elif id == '5':\n",
    "        print (\"five\", end=' ')\n",
    "    elif id == '6':\n",
    "        print (\"six\", end=' ')\n",
    "    elif id == '7':\n",
    "        print (\"seven\", end=' ')\n",
    "    elif id == '8':\n",
    "        print (\"eigth\", end=' ')\n",
    "    elif id == '9':\n",
    "        print (\"nine\", end=' ')\n",
    "    elif id == '0':\n",
    "        print (\"zero\", end=' ')\n",
    "    else:\n",
    "        print (\"?\", end=' ')\n",
    "    \n",
    " \n"
   ]
  },
  {
   "cell_type": "code",
   "execution_count": 1,
   "metadata": {},
   "outputs": [],
   "source": [
    "ids = input(\"Enter your id\")\n"
   ]
  }
 ],
 "metadata": {
  "kernelspec": {
   "display_name": "Python 3",
   "language": "python",
   "name": "python3"
  },
  "language_info": {
   "codemirror_mode": {
    "name": "ipython",
    "version": 3
   },
   "file_extension": ".py",
   "mimetype": "text/x-python",
   "name": "python",
   "nbconvert_exporter": "python",
   "pygments_lexer": "ipython3",
   "version": "3.10.2"
  },
  "orig_nbformat": 4,
  "vscode": {
   "interpreter": {
    "hash": "dcc355bdbe6cc8e2ecaf468706ec444166ea8f3050acd638fcc7bec5df6828f9"
   }
  }
 },
 "nbformat": 4,
 "nbformat_minor": 2
}
