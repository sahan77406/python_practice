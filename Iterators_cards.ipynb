{
 "cells": [
  {
   "cell_type": "code",
   "execution_count": 9,
   "metadata": {},
   "outputs": [
    {
     "name": "stdout",
     "output_type": "stream",
     "text": [
      "['2', '3', '4', '5', '6', '7', '8', '9', '10', 'J', 'Q', 'K', 'A']\n"
     ]
    }
   ],
   "source": [
    "import itertools\n",
    "\n",
    "ranks = list(range(2, 11)) + ['J', 'Q', 'K', 'A']\n",
    "\n",
    "ranks = [str(rank) for rank in ranks]\n",
    "\n",
    "print(ranks)"
   ]
  },
  {
   "cell_type": "code",
   "execution_count": 8,
   "metadata": {},
   "outputs": [
    {
     "name": "stdout",
     "output_type": "stream",
     "text": [
      "1 ('2', 'Hearts')\n",
      "2 ('2', 'Clubs')\n",
      "3 ('2', 'Diamonds')\n",
      "4 ('2', 'Spades')\n",
      "5 ('3', 'Hearts')\n",
      "6 ('3', 'Clubs')\n",
      "7 ('3', 'Diamonds')\n",
      "8 ('3', 'Spades')\n",
      "9 ('4', 'Hearts')\n",
      "10 ('4', 'Clubs')\n",
      "11 ('4', 'Diamonds')\n",
      "12 ('4', 'Spades')\n",
      "13 ('5', 'Hearts')\n",
      "14 ('5', 'Clubs')\n",
      "15 ('5', 'Diamonds')\n",
      "16 ('5', 'Spades')\n",
      "17 ('6', 'Hearts')\n",
      "18 ('6', 'Clubs')\n",
      "19 ('6', 'Diamonds')\n",
      "20 ('6', 'Spades')\n",
      "21 ('7', 'Hearts')\n",
      "22 ('7', 'Clubs')\n",
      "23 ('7', 'Diamonds')\n",
      "24 ('7', 'Spades')\n",
      "25 ('8', 'Hearts')\n",
      "26 ('8', 'Clubs')\n",
      "27 ('8', 'Diamonds')\n",
      "28 ('8', 'Spades')\n",
      "29 ('9', 'Hearts')\n",
      "30 ('9', 'Clubs')\n",
      "31 ('9', 'Diamonds')\n",
      "32 ('9', 'Spades')\n",
      "33 ('10', 'Hearts')\n",
      "34 ('10', 'Clubs')\n",
      "35 ('10', 'Diamonds')\n",
      "36 ('10', 'Spades')\n",
      "37 ('J', 'Hearts')\n",
      "38 ('J', 'Clubs')\n",
      "39 ('J', 'Diamonds')\n",
      "40 ('J', 'Spades')\n",
      "41 ('Q', 'Hearts')\n",
      "42 ('Q', 'Clubs')\n",
      "43 ('Q', 'Diamonds')\n",
      "44 ('Q', 'Spades')\n",
      "45 ('K', 'Hearts')\n",
      "46 ('K', 'Clubs')\n",
      "47 ('K', 'Diamonds')\n",
      "48 ('K', 'Spades')\n",
      "49 ('A', 'Hearts')\n",
      "50 ('A', 'Clubs')\n",
      "51 ('A', 'Diamonds')\n",
      "52 ('A', 'Spades')\n"
     ]
    }
   ],
   "source": [
    "suits = ['Hearts', 'Clubs', 'Diamonds', 'Spades']\n",
    "\n",
    "deck = [card for card in itertools.product(ranks, suits)]\n",
    "\n",
    "for (index, card) in enumerate(deck):\n",
    "    print (1 + index, card)"
   ]
  },
  {
   "cell_type": "code",
   "execution_count": 7,
   "metadata": {},
   "outputs": [
    {
     "name": "stdout",
     "output_type": "stream",
     "text": [
      "2598960\n"
     ]
    }
   ],
   "source": [
    "hands = [hand for hand in itertools.combinations(deck, 5)]\n",
    "\n",
    "print (len(hands))"
   ]
  }
 ],
 "metadata": {
  "kernelspec": {
   "display_name": "Python 3",
   "language": "python",
   "name": "python3"
  },
  "language_info": {
   "codemirror_mode": {
    "name": "ipython",
    "version": 3
   },
   "file_extension": ".py",
   "mimetype": "text/x-python",
   "name": "python",
   "nbconvert_exporter": "python",
   "pygments_lexer": "ipython3",
   "version": "3.10.2"
  },
  "orig_nbformat": 4,
  "vscode": {
   "interpreter": {
    "hash": "dcc355bdbe6cc8e2ecaf468706ec444166ea8f3050acd638fcc7bec5df6828f9"
   }
  }
 },
 "nbformat": 4,
 "nbformat_minor": 2
}
