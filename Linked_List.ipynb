{
 "cells": [
  {
   "cell_type": "code",
   "execution_count": 8,
   "metadata": {},
   "outputs": [
    {
     "name": "stdout",
     "output_type": "stream",
     "text": [
      "<__main__.Node object at 0x000001D3CA37E230>\n",
      "<__main__.Node object at 0x000001D3CA37FF40>\n",
      "<__main__.Node object at 0x000001D3CB643520>\n",
      "1\n",
      "2\n",
      "3\n"
     ]
    }
   ],
   "source": [
    "class Node:\n",
    " \n",
    "    # Function to initialise the node object\n",
    "    def __init__(self, data):\n",
    "        self.data = data  # Assign data\n",
    "        self.next = None  # Initialize next as null\n",
    " \n",
    " \n",
    "# Linked List class contains a Node object\n",
    "class LinkedList:\n",
    " \n",
    "    # Function to initialize head\n",
    "    def __init__(self):\n",
    "        self.head = None\n",
    " \n",
    "    # This function prints contents of linked list\n",
    "    # starting from head\n",
    "    def printList(self):\n",
    "        temp = self.head\n",
    "        while (temp):\n",
    "            print(temp.data)\n",
    "            temp = temp.next\n",
    " \n",
    " \n",
    "# Code execution starts here\n",
    "if __name__ == '__main__':\n",
    " \n",
    "    # Start with the empty list\n",
    "    llist = LinkedList()\n",
    " \n",
    "    llist.head = Node(1)\n",
    "    print (llist.head)\n",
    "    second = Node(2)\n",
    "    print(second)\n",
    "    third = Node(3)\n",
    "    print(third)\n",
    " \n",
    "    llist.head.next = second  # Link first node with second\n",
    "    second.next = third  # Link second node with the third node\n",
    " \n",
    "    llist.printList()"
   ]
  }
 ],
 "metadata": {
  "kernelspec": {
   "display_name": "Python 3",
   "language": "python",
   "name": "python3"
  },
  "language_info": {
   "codemirror_mode": {
    "name": "ipython",
    "version": 3
   },
   "file_extension": ".py",
   "mimetype": "text/x-python",
   "name": "python",
   "nbconvert_exporter": "python",
   "pygments_lexer": "ipython3",
   "version": "3.10.2"
  },
  "orig_nbformat": 4,
  "vscode": {
   "interpreter": {
    "hash": "dcc355bdbe6cc8e2ecaf468706ec444166ea8f3050acd638fcc7bec5df6828f9"
   }
  }
 },
 "nbformat": 4,
 "nbformat_minor": 2
}
