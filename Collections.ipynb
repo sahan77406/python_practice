{
 "cells": [
  {
   "attachments": {},
   "cell_type": "markdown",
   "metadata": {},
   "source": [
    "## **Collections**"
   ]
  },
  {
   "attachments": {},
   "cell_type": "markdown",
   "metadata": {},
   "source": [
    "### **1-Lists**\n",
    "\n",
    "- Lists are mutable (can be changed).\n",
    "- Lists are declared with square **[]** brackets.\n",
    "- The **append()** method is used to add a single item at the end of the list\n",
    "- The **pop()** method is used to remove the item at the given index\n",
    "- The **sort()** method is used to sort the items of a given list in a specific ascending or descending order\n",
    "- The **index()** method is used to search element from the start of the list and returns the lowest index where the element appears\n",
    "- The **count()** method is used to return the number of times the specified element appears in the list.\n",
    "- The **reverse()** method is used to reverse the elements of the list."
   ]
  },
  {
   "cell_type": "code",
   "execution_count": 9,
   "metadata": {},
   "outputs": [
    {
     "name": "stdout",
     "output_type": "stream",
     "text": [
      "[]\n",
      "['a', 'apple', 'number', 5, 9, 10.01]\n",
      "a apple number 5 9 10.01 "
     ]
    }
   ],
   "source": [
    "list_a = [] # Create an empty list and append items later\n",
    "list_b = [\"a\", \"apple\", \"number\", 5, 9, 10.01]\n",
    "\n",
    "# print list\n",
    "\n",
    "print(list_a) # It is empty. \n",
    "print (list_b) # print elements in square brackets\n",
    "\n",
    "# print without brackets\n",
    "for i in list_b:\n",
    "    print (i , end=\" \")"
   ]
  },
  {
   "cell_type": "code",
   "execution_count": 13,
   "metadata": {},
   "outputs": [
    {
     "name": "stdout",
     "output_type": "stream",
     "text": [
      "Before Appending\n",
      "['red', 'blue', 'green', 'yellow', 'orange']\n",
      "\n",
      "After Appending\n",
      "['red', 'blue', 'green', 'yellow', 'orange', 'black']\n"
     ]
    }
   ],
   "source": [
    "# Append an item to the list\n",
    "list_c = [\"red\", \"blue\", \"green\", \"yellow\", \"orange\"]\n",
    "print(\"Before Appending\")\n",
    "print (list_c)\n",
    "print() # skip one line\n",
    "\n",
    "list_c.append(\"black\")\n",
    "print(\"After Appending\")\n",
    "print (list_c)\n"
   ]
  },
  {
   "cell_type": "code",
   "execution_count": 19,
   "metadata": {},
   "outputs": [
    {
     "name": "stdout",
     "output_type": "stream",
     "text": [
      "Before Removing\n",
      "['ocean', 'sea', 'lake', 'pond', 'river']\n",
      "\n",
      "After Removing\n",
      "['ocean', 'lake', 'pond', 'river']\n",
      "\n",
      "Removed Item\n",
      "sea\n"
     ]
    }
   ],
   "source": [
    "# Remove an item from the list\n",
    "list_d = [\"ocean\", \"sea\", \"lake\", \"pond\", \"river\"]\n",
    "print(\"Before Removing\")\n",
    "print (list_d)\n",
    "print() # skip one line\n",
    "\n",
    "removed_item = list_d.pop(1) # Remove the item at index one which is sea and return the element\n",
    "print(\"After Removing\")\n",
    "print (list_d)\n",
    "\n",
    "print() # skip one line\n",
    "print(\"Removed Item\")\n",
    "print (removed_item) # Print removed item\n"
   ]
  },
  {
   "cell_type": "code",
   "execution_count": 22,
   "metadata": {},
   "outputs": [
    {
     "name": "stdout",
     "output_type": "stream",
     "text": [
      "Before Sorting\n",
      "[1, 78, -1, 0, 11, 89, 0.5]\n",
      "\n",
      "After Sorting\n",
      "[-1, 0, 0.5, 1, 11, 78, 89]\n",
      "\n",
      "Reverse Sorting\n",
      "[89, 78, 11, 1, 0.5, 0, -1]\n"
     ]
    }
   ],
   "source": [
    "# Sort the list items\n",
    "list_e = [1, 78, -1, 0, 11, 89, 0.5]\n",
    "\n",
    "print(\"Before Sorting\")\n",
    "print (list_e)\n",
    "print() # skip one line\n",
    "\n",
    "print(\"After Sorting\")\n",
    "list_e.sort()\n",
    "print (list_e)\n",
    "print() # skip one line\n",
    "\n",
    "print(\"Reverse Sorting\")\n",
    "list_e.sort(reverse=True)\n",
    "print (list_e)"
   ]
  },
  {
   "cell_type": "code",
   "execution_count": 23,
   "metadata": {},
   "outputs": [
    {
     "name": "stdout",
     "output_type": "stream",
     "text": [
      "1\n"
     ]
    }
   ],
   "source": [
    "# Search an element in the list\n",
    "list_f = [\"pencil\", \"pen\", \"eraser\", \"calculator\", \"notebook\", \"pen\"]\n",
    "\n",
    "searched_element = list_f.index(\"pen\") # Return the the index of pen at its first occurance\n",
    "\n",
    "print (searched_element)"
   ]
  },
  {
   "cell_type": "code",
   "execution_count": 24,
   "metadata": {},
   "outputs": [
    {
     "name": "stdout",
     "output_type": "stream",
     "text": [
      "2\n"
     ]
    }
   ],
   "source": [
    "# Count the number of an item in the list\n",
    "\n",
    "list_g = [2, 5, 6, 9, 6, 0, 1, 4, 4, 3, 1, 99]\n",
    "\n",
    "how_many = list_g.count(6) # How many element 6 are there in the list\n",
    "\n",
    "print(how_many) "
   ]
  },
  {
   "cell_type": "code",
   "execution_count": 25,
   "metadata": {},
   "outputs": [
    {
     "name": "stdout",
     "output_type": "stream",
     "text": [
      "Before Reversing\n",
      "[1, 2, 3, 4, 5, 6, 7, 8, 9]\n",
      "\n",
      "After Reversing\n",
      "[9, 8, 7, 6, 5, 4, 3, 2, 1]\n",
      "\n"
     ]
    }
   ],
   "source": [
    "# Reverse the items in the list\n",
    "\n",
    "list_h = [1, 2, 3, 4, 5, 6, 7, 8, 9]\n",
    "\n",
    "print(\"Before Reversing\")\n",
    "print (list_h)\n",
    "print() # skip one line\n",
    "\n",
    "print(\"After Reversing\")\n",
    "list_h.reverse()\n",
    "print (list_h)\n",
    "print() # skip one line\n",
    "\n"
   ]
  }
 ],
 "metadata": {
  "kernelspec": {
   "display_name": "Python 3",
   "language": "python",
   "name": "python3"
  },
  "language_info": {
   "codemirror_mode": {
    "name": "ipython",
    "version": 3
   },
   "file_extension": ".py",
   "mimetype": "text/x-python",
   "name": "python",
   "nbconvert_exporter": "python",
   "pygments_lexer": "ipython3",
   "version": "3.10.2"
  },
  "orig_nbformat": 4,
  "vscode": {
   "interpreter": {
    "hash": "dcc355bdbe6cc8e2ecaf468706ec444166ea8f3050acd638fcc7bec5df6828f9"
   }
  }
 },
 "nbformat": 4,
 "nbformat_minor": 2
}
