{
 "cells": [
  {
   "attachments": {},
   "cell_type": "markdown",
   "metadata": {},
   "source": [
    "## **Collections**"
   ]
  },
  {
   "attachments": {},
   "cell_type": "markdown",
   "metadata": {},
   "source": [
    "### **1-Tuples**\n",
    "\n",
    "- Tuples are immutable (can not be changed).\n",
    "- Tuples are declared with square **()** parenthesis.\n",
    "- Items can not be added to the tuple\n",
    "- Items can not be removed from the tuple\n",
    "- Elements are oredered but elements can be sorted\n",
    "- The **index()** method is used to search element and it returns the position of where it was found.\n",
    "- The **count()** method is used to return the number of times the specified element appears in the tuple."
   ]
  },
  {
   "cell_type": "code",
   "execution_count": 3,
   "metadata": {},
   "outputs": [
    {
     "name": "stdout",
     "output_type": "stream",
     "text": [
      "('a', 'apple', 'number', 5, 9, 10.01)\n",
      "\n",
      "a apple number 5 9 10.01 "
     ]
    }
   ],
   "source": [
    "tuple_b = (\"a\", \"apple\", \"number\", 5, 9, 10.01)\n",
    "\n",
    "# print list\n",
    "\n",
    "print (tuple_b) # print elements in parenthesis\n",
    "\n",
    "print() # Skip a line\n",
    "# print without parenthesis\n",
    "for i in tuple_b:\n",
    "    print (i , end=\" \")"
   ]
  },
  {
   "cell_type": "code",
   "execution_count": 5,
   "metadata": {},
   "outputs": [
    {
     "name": "stdout",
     "output_type": "stream",
     "text": [
      "['red', 'blue', 'green', 'yellow', 'orange']\n",
      "\n",
      "yellow\n"
     ]
    }
   ],
   "source": [
    "# accessing values using indexing\n",
    "tuple_c = [\"red\", \"blue\", \"green\", \"yellow\", \"orange\"]\n",
    "\n",
    "print (tuple_c)\n",
    "print() # skip one line\n",
    "\n",
    "print(tuple_c[3]) # accessing value at index 3\n"
   ]
  },
  {
   "cell_type": "code",
   "execution_count": 10,
   "metadata": {},
   "outputs": [
    {
     "name": "stdout",
     "output_type": "stream",
     "text": [
      "index_pen :1\n",
      "index_calculator :3\n"
     ]
    }
   ],
   "source": [
    "# Search an element in the list\n",
    "tuple_f = (\"pencil\", \"pen\", \"eraser\", \"calculator\", \"notebook\", \"pen\")\n",
    "\n",
    "searched_element1 = tuple_f.index(\"pen\") # Return the the index of pen at its first occurance\n",
    "searched_element2 = tuple_f.index(\"calculator\") # Return the the index of calculator at its first occurance\n",
    "print (\"index_pen :\" + str(searched_element1))\n",
    "print (\"index_calculator :\" + str(searched_element2))"
   ]
  },
  {
   "cell_type": "code",
   "execution_count": 11,
   "metadata": {},
   "outputs": [
    {
     "name": "stdout",
     "output_type": "stream",
     "text": [
      "2\n"
     ]
    }
   ],
   "source": [
    "# Count the number of an item in the tuple\n",
    "\n",
    "tuple_g = (2, 5, 6, 9, 6, 0, 1, 4, 4, 3, 1, 99)\n",
    "\n",
    "how_many = tuple_g.count(4) # How many element 4 are there in the tuple\n",
    "\n",
    "print(how_many) "
   ]
  }
 ],
 "metadata": {
  "kernelspec": {
   "display_name": "Python 3",
   "language": "python",
   "name": "python3"
  },
  "language_info": {
   "codemirror_mode": {
    "name": "ipython",
    "version": 3
   },
   "file_extension": ".py",
   "mimetype": "text/x-python",
   "name": "python",
   "nbconvert_exporter": "python",
   "pygments_lexer": "ipython3",
   "version": "3.10.2"
  },
  "orig_nbformat": 4,
  "vscode": {
   "interpreter": {
    "hash": "dcc355bdbe6cc8e2ecaf468706ec444166ea8f3050acd638fcc7bec5df6828f9"
   }
  }
 },
 "nbformat": 4,
 "nbformat_minor": 2
}
