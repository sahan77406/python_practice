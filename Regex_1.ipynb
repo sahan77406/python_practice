{
 "cells": [
  {
   "attachments": {},
   "cell_type": "markdown",
   "metadata": {},
   "source": [
    "- ^ Matches the expression to its right, at the start of a string before it experiences a line break\n",
    "- $ Matches the expression to its left, at the end of a string before it experiences a line break\n",
    "- . Matches any character except newline\n",
    "- a Matches exactly one character a\n",
    "- xy Matches the string xy\n",
    "- a|b Matches expression a or b. If a is matched first, b is left untried."
   ]
  },
  {
   "cell_type": "code",
   "execution_count": 2,
   "metadata": {},
   "outputs": [
    {
     "name": "stdout",
     "output_type": "stream",
     "text": [
      "Finn  Bindaballe\n",
      "Ron Cromberge\n"
     ]
    }
   ],
   "source": [
    "import re\n",
    "\n",
    "names = ['Finn  Bindaballe',\n",
    "         'Geir Anders Berge',\n",
    "         'HappyCodingRobot',\n",
    "         'Ron Cromberge',\n",
    "         'Sohil']\n",
    "\n",
    "# Find people with first and last name only\n",
    "\n",
    "# With one space between words\n",
    "regex = '^\\w+ \\w+$'\n",
    "# With one or more spaces between words\n",
    "regex = '^\\w+\\s+\\w+$'\n",
    "for name in names:\n",
    "    result = re.search(regex, name)\n",
    "    if result:\n",
    "        print(name)"
   ]
  },
  {
   "cell_type": "code",
   "execution_count": 3,
   "metadata": {},
   "outputs": [
    {
     "name": "stdout",
     "output_type": "stream",
     "text": [
      "<re.Match object; span=(0, 16), match='Finn  Bindaballe'>\n",
      "<re.Match object; span=(0, 13), match='Ron Cromberge'>\n"
     ]
    }
   ],
   "source": [
    "import re\n",
    "\n",
    "names = ['Finn  Bindaballe',\n",
    "         'Geir Anders Berge',\n",
    "         'HappyCodingRobot',\n",
    "         'Ron Cromberge',\n",
    "         'Sohil']\n",
    "\n",
    "# Find people with first and last name only\n",
    "\n",
    "# With one space between words\n",
    "regex = '^\\w+ \\w+$'\n",
    "# With one or more spaces between words\n",
    "regex = '^\\w+\\s+\\w+$'\n",
    "for name in names:\n",
    "    result = re.search(regex, name)\n",
    "    if result:\n",
    "        print(result)"
   ]
  },
  {
   "cell_type": "code",
   "execution_count": 6,
   "metadata": {},
   "outputs": [
    {
     "name": "stdout",
     "output_type": "stream",
     "text": [
      "HappyCodingRobot\n",
      "5\n",
      "16\n",
      "Ron Cromberge\n",
      "4\n",
      "13\n"
     ]
    }
   ],
   "source": [
    "import re\n",
    "\n",
    "names = ['Finn  Bindaballe',\n",
    "         'Geir Anders Berge',\n",
    "         'HappyCodingRobot',\n",
    "         'Ron Cromberge',\n",
    "         'Sohil']\n",
    "\n",
    "# Search for word char sequence starting with C\n",
    "\n",
    "regex = 'C\\w*'\n",
    "for name in names:\n",
    "    match = re.search(regex, name)\n",
    "    if match:\n",
    "        print(name)\n",
    "        print(match.start())\n",
    "        print(match.end())"
   ]
  },
  {
   "cell_type": "code",
   "execution_count": 8,
   "metadata": {},
   "outputs": [
    {
     "name": "stdout",
     "output_type": "stream",
     "text": [
      "HappyCodingRobot\n",
      "(5, 16)\n",
      "CodingRobot\n",
      "Ron Cromberge\n",
      "(4, 13)\n",
      "Cromberge\n"
     ]
    }
   ],
   "source": [
    "import re\n",
    "\n",
    "names = ['Finn  Bindaballe',\n",
    "         'Geir Anders Berge',\n",
    "         'HappyCodingRobot',\n",
    "         'Ron Cromberge',\n",
    "         'Sohil']\n",
    "\n",
    "# Search for word char sequence starting with C\n",
    "\n",
    "regex = 'C\\w*'\n",
    "for name in names:\n",
    "    match = re.search(regex, name)\n",
    "    if match:\n",
    "        print(name)\n",
    "        print(match.span())\n",
    "        print(match.group())\n"
   ]
  },
  {
   "cell_type": "code",
   "execution_count": 12,
   "metadata": {},
   "outputs": [
    {
     "name": "stdout",
     "output_type": "stream",
     "text": [
      "Daugette Brian\n",
      "Supersonica Veronica\n",
      "Gasparovic Tony\n",
      "Germann Patric\n"
     ]
    }
   ],
   "source": [
    "import re\n",
    "\n",
    "names = ['Brian Daugette',\n",
    "         'Veronica Supersonica',\n",
    "         'Tony Gasparovic',\n",
    "         'Patric Germann',\n",
    "         'm!sha']\n",
    "\n",
    "regex = '^(\\w+)\\s+(\\w+)$'\n",
    "\n",
    "for name in names:\n",
    "    match = re.search(regex, name)\n",
    "    if match:\n",
    "        # print(name)\n",
    "        # print(match.group(1))\n",
    "        # print(match.group(2))\n",
    "        print(match.group(2), match.group(1))"
   ]
  },
  {
   "cell_type": "code",
   "execution_count": 13,
   "metadata": {},
   "outputs": [
    {
     "name": "stdout",
     "output_type": "stream",
     "text": [
      "Daugette Brian\n",
      "Supersonica Veronica\n",
      "Gasparovic Tony\n",
      "Germann Patric\n"
     ]
    }
   ],
   "source": [
    "import re\n",
    "\n",
    "names = ['Brian Daugette',\n",
    "         'Veronica Supersonica',\n",
    "         'Tony Gasparovic',\n",
    "         'Patric Germann',\n",
    "         'm!sha']\n",
    "\n",
    "regex = '^(?P<fn>\\w+)\\s+(?P<ln>\\w+)$'\n",
    "\n",
    "for name in names:\n",
    "    match = re.search(regex, name)\n",
    "    if match:\n",
    "        # print(name)\n",
    "        # print(match.group(1))\n",
    "        # print(match.group(2))\n",
    "        print(match.group('ln'), match.group('fn'))"
   ]
  },
  {
   "cell_type": "code",
   "execution_count": 4,
   "metadata": {},
   "outputs": [
    {
     "name": "stdout",
     "output_type": "stream",
     "text": [
      "Return a list containing every occurrence"
     ]
    }
   ],
   "source": [
    "import re\n",
    "\n",
    "text = 'Return a list containing every occurrence'\n",
    "\n",
    "regex = 'ning'\n",
    "\n",
    "for txt in text:\n",
    "    match = re.findall(regex, text)\n",
    "    if match:\n",
    "        print(txt, end='')\n"
   ]
  },
  {
   "cell_type": "code",
   "execution_count": 1,
   "metadata": {},
   "outputs": [
    {
     "name": "stdout",
     "output_type": "stream",
     "text": [
      "['ning']\n"
     ]
    }
   ],
   "source": [
    "import re\n",
    "\n",
    "text = 'Return a list containing every occurrence'\n",
    "\n",
    "regex = 'ning'\n",
    "\n",
    "match = re.findall(regex, text)\n",
    "print(match)\n"
   ]
  }
 ],
 "metadata": {
  "kernelspec": {
   "display_name": "Python 3",
   "language": "python",
   "name": "python3"
  },
  "language_info": {
   "codemirror_mode": {
    "name": "ipython",
    "version": 3
   },
   "file_extension": ".py",
   "mimetype": "text/x-python",
   "name": "python",
   "nbconvert_exporter": "python",
   "pygments_lexer": "ipython3",
   "version": "3.10.2"
  },
  "orig_nbformat": 4,
  "vscode": {
   "interpreter": {
    "hash": "dcc355bdbe6cc8e2ecaf468706ec444166ea8f3050acd638fcc7bec5df6828f9"
   }
  }
 },
 "nbformat": 4,
 "nbformat_minor": 2
}
