{
 "cells": [
  {
   "cell_type": "code",
   "execution_count": 1,
   "metadata": {},
   "outputs": [
    {
     "name": "stdout",
     "output_type": "stream",
     "text": [
      "MEHMET"
     ]
    }
   ],
   "source": [
    "for letter in 'MEHMET':\n",
    "    print(letter, end=\"\")"
   ]
  },
  {
   "cell_type": "code",
   "execution_count": 2,
   "metadata": {},
   "outputs": [
    {
     "name": "stdout",
     "output_type": "stream",
     "text": [
      "77\n",
      "69\n",
      "72\n",
      "77\n",
      "69\n",
      "84\n"
     ]
    }
   ],
   "source": [
    "for byte in b'MEHMET':\n",
    "    print(byte)"
   ]
  },
  {
   "cell_type": "code",
   "execution_count": 3,
   "metadata": {},
   "outputs": [
    {
     "name": "stdout",
     "output_type": "stream",
     "text": [
      "109\n",
      "101\n",
      "104\n",
      "109\n",
      "101\n",
      "116\n"
     ]
    }
   ],
   "source": [
    "for byte in b'mehmet':\n",
    "    print(byte)"
   ]
  },
  {
   "cell_type": "code",
   "execution_count": 4,
   "metadata": {},
   "outputs": [
    {
     "name": "stdout",
     "output_type": "stream",
     "text": [
      "1\n",
      "2\n",
      "3\n",
      "4\n",
      "5\n",
      "6\n"
     ]
    }
   ],
   "source": [
    "for digit in '123456':\n",
    "    print(digit)"
   ]
  },
  {
   "cell_type": "code",
   "execution_count": 5,
   "metadata": {},
   "outputs": [
    {
     "name": "stdout",
     "output_type": "stream",
     "text": [
      "1\n",
      "2\n",
      "3\n",
      "4\n",
      "5\n",
      "6\n",
      "7\n",
      "8\n",
      "9\n"
     ]
    }
   ],
   "source": [
    "c = 123456789\n",
    "\n",
    "digits = [int(d) for d in str(c)]\n",
    "for digit in digits:\n",
    "    print(digit)\n",
    "\n"
   ]
  },
  {
   "cell_type": "code",
   "execution_count": 6,
   "metadata": {},
   "outputs": [
    {
     "data": {
      "text/plain": [
       "'blue'"
      ]
     },
     "execution_count": 6,
     "metadata": {},
     "output_type": "execute_result"
    }
   ],
   "source": [
    "colors = ['blue', 'green', 'yellow']\n",
    "\n",
    "looper = colors.__iter__()\n",
    "looper.__next__()"
   ]
  },
  {
   "cell_type": "code",
   "execution_count": 7,
   "metadata": {},
   "outputs": [
    {
     "data": {
      "text/plain": [
       "'green'"
      ]
     },
     "execution_count": 7,
     "metadata": {},
     "output_type": "execute_result"
    }
   ],
   "source": [
    "looper.__next__()"
   ]
  },
  {
   "cell_type": "code",
   "execution_count": 8,
   "metadata": {},
   "outputs": [
    {
     "data": {
      "text/plain": [
       "'yellow'"
      ]
     },
     "execution_count": 8,
     "metadata": {},
     "output_type": "execute_result"
    }
   ],
   "source": [
    "looper.__next__()"
   ]
  },
  {
   "cell_type": "code",
   "execution_count": 9,
   "metadata": {},
   "outputs": [
    {
     "data": {
      "text/plain": [
       "'blue'"
      ]
     },
     "execution_count": 9,
     "metadata": {},
     "output_type": "execute_result"
    }
   ],
   "source": [
    "colors = ['blue', 'green', 'yellow']\n",
    "\n",
    "looper1 = iter(colors)\n",
    "\n",
    "next(looper1)"
   ]
  },
  {
   "cell_type": "code",
   "execution_count": 10,
   "metadata": {},
   "outputs": [
    {
     "data": {
      "text/plain": [
       "'green'"
      ]
     },
     "execution_count": 10,
     "metadata": {},
     "output_type": "execute_result"
    }
   ],
   "source": [
    "next(looper1)"
   ]
  },
  {
   "cell_type": "code",
   "execution_count": 11,
   "metadata": {},
   "outputs": [
    {
     "data": {
      "text/plain": [
       "'yellow'"
      ]
     },
     "execution_count": 11,
     "metadata": {},
     "output_type": "execute_result"
    }
   ],
   "source": [
    "next(looper1)"
   ]
  },
  {
   "cell_type": "code",
   "execution_count": 12,
   "metadata": {},
   "outputs": [
    {
     "name": "stdout",
     "output_type": "stream",
     "text": [
      "rose\n",
      "daisy\n",
      "tulip\n",
      "orchid\n"
     ]
    }
   ],
   "source": [
    "flowers = ['rose', 'daisy', 'tulip', 'orchid' ]\n",
    "\n",
    "looper2 = iter(flowers)\n",
    "\n",
    "while True:\n",
    "    try:\n",
    "        flower = next(looper2)\n",
    "        print(flower)\n",
    "    except StopIteration:\n",
    "        break\n",
    "    "
   ]
  },
  {
   "cell_type": "code",
   "execution_count": 13,
   "metadata": {},
   "outputs": [
    {
     "name": "stdout",
     "output_type": "stream",
     "text": [
      "STAR 178\n",
      "PLANET 99\n",
      "SUN 75\n",
      "MERCURY 12\n"
     ]
    }
   ],
   "source": [
    "class portfolio:\n",
    "    def __init__(self):\n",
    "        self.holdings = {}\n",
    "        \n",
    "    def buy(self, ticker, shares):\n",
    "        self.holdings[ticker] = self.holdings.get(ticker, 0) + shares\n",
    "    \n",
    "    def sell(self, ticker, shares):\n",
    "        self.holdings[ticker] = self.holdings.get(ticker, 0) - shares\n",
    "        \n",
    "    def _iter_(self):\n",
    "        return iter(self.holdings.items())\n",
    "    \n",
    "if __name__ == \"__main__\":\n",
    "        \n",
    "    port = portfolio()\n",
    "    port.buy('STAR', 100)\n",
    "    port.buy('PLANET', 99)\n",
    "    port.buy('SUN', 75)\n",
    "    port.buy('MERCURY', 12)\n",
    "    port.buy('STAR', 78)\n",
    "\n",
    "    for (ticker, shares) in port.holdings.items():\n",
    "        print(ticker, shares)"
   ]
  }
 ],
 "metadata": {
  "kernelspec": {
   "display_name": "Python 3",
   "language": "python",
   "name": "python3"
  },
  "language_info": {
   "codemirror_mode": {
    "name": "ipython",
    "version": 3
   },
   "file_extension": ".py",
   "mimetype": "text/x-python",
   "name": "python",
   "nbconvert_exporter": "python",
   "pygments_lexer": "ipython3",
   "version": "3.10.2 (tags/v3.10.2:a58ebcc, Jan 17 2022, 14:12:15) [MSC v.1929 64 bit (AMD64)]"
  },
  "orig_nbformat": 4,
  "vscode": {
   "interpreter": {
    "hash": "dcc355bdbe6cc8e2ecaf468706ec444166ea8f3050acd638fcc7bec5df6828f9"
   }
  }
 },
 "nbformat": 4,
 "nbformat_minor": 2
}
